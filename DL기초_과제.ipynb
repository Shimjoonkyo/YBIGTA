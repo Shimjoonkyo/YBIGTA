{
  "nbformat": 4,
  "nbformat_minor": 0,
  "metadata": {
    "kernelspec": {
      "display_name": "Python 3",
      "language": "python",
      "name": "python3"
    },
    "language_info": {
      "codemirror_mode": {
        "name": "ipython",
        "version": 3
      },
      "file_extension": ".py",
      "mimetype": "text/x-python",
      "name": "python",
      "nbconvert_exporter": "python",
      "pygments_lexer": "ipython3",
      "version": "3.7.1"
    },
    "colab": {
      "name": "DL기초 과제.ipynb",
      "provenance": [],
      "collapsed_sections": []
    }
  },
  "cells": [
    {
      "cell_type": "markdown",
      "metadata": {
        "id": "1C0TDnbVJh7c"
      },
      "source": [
        "# 과제1: tensorflow를 이용한 NN 밑바닥부터 구현\n",
        "input feature가 100개이고,  \n",
        "hidden layer가 2개이고 neuron이 각각 50,10개이고,  \n",
        "output이 5개인 NN를 구현해 보자  \n",
        "* hidden layer는 relu를 activation function으로, output layer는 softmax를 activation function으로 사용"
      ]
    },
    {
      "cell_type": "code",
      "metadata": {
        "id": "PSBRVhCSJh7e"
      },
      "source": [
        "import tensorflow as tf\n",
        "import numpy as np"
      ],
      "execution_count": null,
      "outputs": []
    },
    {
      "cell_type": "code",
      "metadata": {
        "id": "r5hIpW2GJh7f"
      },
      "source": [
        "n_x = 100\n",
        "n_h1 = 50\n",
        "n_h2 = 10\n",
        "n_y = 5"
      ],
      "execution_count": null,
      "outputs": []
    },
    {
      "cell_type": "code",
      "metadata": {
        "colab": {
          "base_uri": "https://localhost:8080/"
        },
        "id": "Fh41S79LJh7f",
        "outputId": "8e8d444a-777a-4662-c552-42ddd64d3fe4"
      },
      "source": [
        "# Simulate train set\n",
        "m = 500\n",
        "\n",
        "x_train=np.random.randn(m,n_x).astype(np.float32)\n",
        "y_train=np.zeros((m,n_y)).astype(np.float32)\n",
        "y_train[np.arange(m),np.random.randint(n_y,size=m)]=1\n",
        "\n",
        "print(x_train)\n",
        "print(y_train)"
      ],
      "execution_count": null,
      "outputs": [
        {
          "output_type": "stream",
          "text": [
            "[[ 0.46275425  1.9163489  -0.00747802 ...  1.3979049   0.30187672\n",
            "   0.47847122]\n",
            " [-1.1088767   1.0358155  -0.33549798 ...  0.71618193 -0.16110682\n",
            "   0.8601247 ]\n",
            " [ 0.30264163  0.5065551  -0.5769423  ... -2.6746285   0.65562034\n",
            "  -2.9993312 ]\n",
            " ...\n",
            " [-0.8928456  -1.0112306   0.37998277 ... -0.73301303 -0.54148626\n",
            "  -2.4134855 ]\n",
            " [ 1.1366829  -0.26641563  0.9337496  ...  0.21240567 -1.4176909\n",
            "   1.1721666 ]\n",
            " [-0.3191691  -0.17865932  0.54980797 ...  0.94799215 -0.48200387\n",
            "   0.06552852]]\n",
            "[[0. 0. 1. 0. 0.]\n",
            " [0. 1. 0. 0. 0.]\n",
            " [0. 0. 1. 0. 0.]\n",
            " ...\n",
            " [1. 0. 0. 0. 0.]\n",
            " [0. 0. 0. 1. 0.]\n",
            " [0. 0. 1. 0. 0.]]\n"
          ],
          "name": "stdout"
        }
      ]
    },
    {
      "cell_type": "markdown",
      "metadata": {
        "id": "vrNglAmYJh7f"
      },
      "source": [
        "* Initialization of weights"
      ]
    },
    {
      "cell_type": "code",
      "metadata": {
        "id": "pcutUdQwJh7g"
      },
      "source": [
        "w1=tf.Variable(1e-3*np.random.randn(n_x,n_h1).astype(np.float32),name=\"w1\")\n",
        "## 코드를 작성해 보세요 ##\n",
        "w2=tf.Variable(1e-3*np.random.randn(n_h1,n_h2).astype(np.float32),name=\"w2\")\n",
        "w3=tf.Variable(1e-3*np.random.randn(n_h2,n_y).astype(np.float32),name=\"w3\")\n",
        "\n",
        "b1=tf.Variable(np.random.randn(1,n_h1).astype(np.float32),name=\"b1\")\n",
        "b2=tf.Variable(np.random.randn(1,n_h2).astype(np.float32),name=\"b2\")\n",
        "b3=tf.Variable(np.random.randn(1,n_y).astype(np.float32),name=\"b3\")"
      ],
      "execution_count": null,
      "outputs": []
    },
    {
      "cell_type": "markdown",
      "metadata": {
        "id": "gYhu91SLJh7g"
      },
      "source": [
        "* forward propagation을 통해 prediction 값을 구하고, loss를 구하는 function을 만들어 봅시다"
      ]
    },
    {
      "cell_type": "code",
      "metadata": {
        "id": "HCZ4dUB-Jh7g"
      },
      "source": [
        "def forward(x,w1,w2,w3,b1,b2,b3):\n",
        "    z1=tf.matmul(x,w1)\n",
        "    z1=tf.add(z1,b1)\n",
        "    a1=tf.nn.relu(z1)\n",
        "    ## 코드를 작성해 보세요 ##\n",
        "    z2=tf.matmul(z1,w2)\n",
        "    z2=tf.add(z2,b2)\n",
        "    a2=tf.nn.relu(z2)\n",
        "    z3=tf.matmul(z2,w3)\n",
        "    z3=tf.add(z3,b3)\n",
        "    predictions = tf.nn.softmax(z3)\n",
        "    \n",
        "    return predictions\n",
        "\n",
        "def loss_fn(predictions, y):\n",
        "    loss= -tf.reduce_sum(y*tf.math.log(predictions))\n",
        "    return loss    "
      ],
      "execution_count": null,
      "outputs": []
    },
    {
      "cell_type": "code",
      "metadata": {
        "colab": {
          "base_uri": "https://localhost:8080/"
        },
        "id": "5YeYzHvBYe9r",
        "outputId": "5afcc534-5179-41cb-b701-f5ba9bcf54dc"
      },
      "source": [
        "forward(x_train,w1,w2,w3,b1,b2,b3)"
      ],
      "execution_count": null,
      "outputs": [
        {
          "output_type": "execute_result",
          "data": {
            "text/plain": [
              "<tf.Tensor: shape=(500, 5), dtype=float32, numpy=\n",
              "array([[0.04574326, 0.3132725 , 0.14423594, 0.36726084, 0.12948745],\n",
              "       [0.04574323, 0.31327242, 0.14423595, 0.36726078, 0.1294876 ],\n",
              "       [0.04574326, 0.31327248, 0.14423595, 0.36726084, 0.12948748],\n",
              "       ...,\n",
              "       [0.04574328, 0.31327245, 0.14423592, 0.36726084, 0.1294875 ],\n",
              "       [0.04574326, 0.31327227, 0.14423598, 0.36726093, 0.12948751],\n",
              "       [0.04574326, 0.3132725 , 0.14423592, 0.36726078, 0.12948747]],\n",
              "      dtype=float32)>"
            ]
          },
          "metadata": {
            "tags": []
          },
          "execution_count": 6
        }
      ]
    },
    {
      "cell_type": "code",
      "metadata": {
        "colab": {
          "base_uri": "https://localhost:8080/"
        },
        "id": "ahm5PRbDa9vp",
        "outputId": "aad9ee59-911b-49d6-c98d-28a01cadd114"
      },
      "source": [
        "y_train"
      ],
      "execution_count": null,
      "outputs": [
        {
          "output_type": "execute_result",
          "data": {
            "text/plain": [
              "array([[0., 0., 1., 0., 0.],\n",
              "       [0., 1., 0., 0., 0.],\n",
              "       [0., 0., 1., 0., 0.],\n",
              "       ...,\n",
              "       [1., 0., 0., 0., 0.],\n",
              "       [0., 0., 0., 1., 0.],\n",
              "       [0., 0., 1., 0., 0.]], dtype=float32)"
            ]
          },
          "metadata": {
            "tags": []
          },
          "execution_count": 7
        }
      ]
    },
    {
      "cell_type": "code",
      "metadata": {
        "colab": {
          "base_uri": "https://localhost:8080/"
        },
        "id": "IeXS4fW6anae",
        "outputId": "014c17a2-7626-44b4-940b-b8ad06b5ca13"
      },
      "source": [
        "loss_fn(forward(x_train,w1,w2,w3,b1,b2,b3),y_train)"
      ],
      "execution_count": null,
      "outputs": [
        {
          "output_type": "execute_result",
          "data": {
            "text/plain": [
              "<tf.Tensor: shape=(), dtype=float32, numpy=932.6084>"
            ]
          },
          "metadata": {
            "tags": []
          },
          "execution_count": 8
        }
      ]
    },
    {
      "cell_type": "markdown",
      "metadata": {
        "id": "pS6XcZTMJh7g"
      },
      "source": [
        "* backpropagation & update parameters"
      ]
    },
    {
      "cell_type": "code",
      "metadata": {
        "id": "bScwlRIsJh7h"
      },
      "source": [
        "learning_rate=1e-2\n",
        "optimizer=tf.keras.optimizers.Adam(learning_rate)\n",
        "\n",
        "def train_step(x,w1,w2,w3,b1,b2,b3, y):\n",
        "    with tf.GradientTape() as tape:\n",
        "        predictions = forward(x,w1,w2,w3,b1,b2,b3)\n",
        "        loss = loss_fn(predictions, y)\n",
        "    ## 코드를 작성해 보세요 ## (hint: tape.gradient를 구글링 해보세요)\n",
        "    gradient = tape.gradient(predictions,[w1,w2,w3,b1,b2,b3])\n",
        "    # optimizer와 위에서 구한 경사도를 이용해 가중치들을 업데이트 합니다.\n",
        "    optimizer.apply_gradients(zip(gradient, [w1, w2,w3,b1,b2,b3]))\n",
        "    return loss, w1, w2,w3,b1,b2,b3\n"
      ],
      "execution_count": null,
      "outputs": []
    },
    {
      "cell_type": "markdown",
      "metadata": {
        "id": "J8huZEdrJh7h"
      },
      "source": [
        "* 간단하게 train loop를 작성해 loss가 줄어나가는지 확인해 봅시다."
      ]
    },
    {
      "cell_type": "code",
      "metadata": {
        "colab": {
          "base_uri": "https://localhost:8080/"
        },
        "id": "VzP0WKA3Jh7h",
        "outputId": "4942224e-2374-4613-d368-120283199ba1"
      },
      "source": [
        "loss_list = []\n",
        "\n",
        "for step in range(10): \n",
        "    loss, w1, w2 ,w3,b1,b2,b3= train_step(x_train,w1,w2,w3,b1,b2,b3, y_train)\n",
        "    loss_list.append(loss.numpy())\n",
        "    \n",
        "print(loss_list)"
      ],
      "execution_count": null,
      "outputs": [
        {
          "output_type": "stream",
          "text": [
            "[907.1267, 905.1369, 903.5352, 900.70154, 897.5695, 894.2792, 890.90314, 887.1842, 883.03375, 878.9144]\n"
          ],
          "name": "stdout"
        }
      ]
    },
    {
      "cell_type": "markdown",
      "metadata": {
        "id": "oGFJWlf2Jh7h"
      },
      "source": [
        "# 과제2: MNIST 데이터를 나만의 NN model로 95 % 이상의 성능으로 training 시켜보자!\n",
        "\n",
        "\n",
        "## Loading MNIST training data"
      ]
    },
    {
      "cell_type": "code",
      "metadata": {
        "colab": {
          "base_uri": "https://localhost:8080/"
        },
        "id": "mTubWmcZJh7h",
        "outputId": "f61e8169-5f9e-46b4-c254-e8d057138f5f"
      },
      "source": [
        "from tensorflow import keras\n",
        "\n",
        "# import matplotlib\n",
        "import matplotlib.pyplot as plt\n",
        "%matplotlib inline\n",
        "\n",
        "# Loading the data\n",
        "(x_train, y_train), (x_test, y_test) = tf.keras.datasets.mnist.load_data()\n",
        "\n",
        "# Scaling(image data는 min-max scaling 주로 사용)\n",
        "x_train = x_train/255.0\n",
        "x_test = x_test/255.0"
      ],
      "execution_count": null,
      "outputs": [
        {
          "output_type": "stream",
          "text": [
            "Downloading data from https://storage.googleapis.com/tensorflow/tf-keras-datasets/mnist.npz\n",
            "11493376/11490434 [==============================] - 0s 0us/step\n"
          ],
          "name": "stdout"
        }
      ]
    },
    {
      "cell_type": "markdown",
      "metadata": {
        "id": "DremT4UfJh7i"
      },
      "source": [
        "## Training Data\n",
        "28 * 28 pixel 값을 가진 총 60000개의 이미지 데이터"
      ]
    },
    {
      "cell_type": "code",
      "metadata": {
        "colab": {
          "base_uri": "https://localhost:8080/"
        },
        "id": "P3EsDJRyJh7i",
        "outputId": "cf62348e-c86b-4de6-e4a2-00f45b5e7c51"
      },
      "source": [
        "x_train.shape "
      ],
      "execution_count": null,
      "outputs": [
        {
          "output_type": "execute_result",
          "data": {
            "text/plain": [
              "(60000, 28, 28)"
            ]
          },
          "metadata": {
            "tags": []
          },
          "execution_count": 15
        }
      ]
    },
    {
      "cell_type": "markdown",
      "metadata": {
        "id": "o8BXWdB_Jh7i"
      },
      "source": [
        "Neural network 모델에 맞게 이미지 데이터를 벡터 형태로 데이터를 reshape 합니다.  \n",
        "(Model을 만들 때 *keras.layers.Flatten(input_shape=(28, 28)) 이용해도 됨)"
      ]
    },
    {
      "cell_type": "code",
      "metadata": {
        "colab": {
          "base_uri": "https://localhost:8080/",
          "height": 265
        },
        "id": "6H4sYfOeJh7i",
        "outputId": "37d25618-0127-44f2-b2fe-62438e61cad3"
      },
      "source": [
        "plt.imshow(x_train[0]).set_cmap('Greys')"
      ],
      "execution_count": null,
      "outputs": [
        {
          "output_type": "display_data",
          "data": {
            "image/png": "[encoded data removed]",
            "text/plain": [
              "<Figure size 432x288 with 1 Axes>"
            ]
          },
          "metadata": {
            "tags": [],
            "needs_background": "light"
          }
        }
      ]
    },
    {
      "cell_type": "code",
      "metadata": {
        "colab": {
          "base_uri": "https://localhost:8080/"
        },
        "id": "iXB-FNPbJh7i",
        "outputId": "6a6fc7d7-4d6c-4f8f-94cc-43f043d9318a"
      },
      "source": [
        "x_train, x_test = x_train.reshape((-1, 28*28)), x_test.reshape((-1, 28*28))\n",
        "x_train.shape, x_test.shape"
      ],
      "execution_count": null,
      "outputs": [
        {
          "output_type": "execute_result",
          "data": {
            "text/plain": [
              "((60000, 784), (10000, 784))"
            ]
          },
          "metadata": {
            "tags": []
          },
          "execution_count": 48
        }
      ]
    },
    {
      "cell_type": "markdown",
      "metadata": {
        "id": "__9gpnevJh7i"
      },
      "source": [
        "## Training Labels\n",
        "이미지 데이터가 나타내는 숫자값을 label로 가지고 있고, 0부터 9까지의 값을 나타냄  \n",
        "마찬가지로, 60000개의 label이 존재"
      ]
    },
    {
      "cell_type": "code",
      "metadata": {
        "colab": {
          "base_uri": "https://localhost:8080/"
        },
        "id": "oebn3_1nJh7j",
        "outputId": "6bd939ce-2751-440b-e25b-97ece5f10a3c"
      },
      "source": [
        "y_train.shape"
      ],
      "execution_count": null,
      "outputs": [
        {
          "output_type": "execute_result",
          "data": {
            "text/plain": [
              "(60000,)"
            ]
          },
          "metadata": {
            "tags": []
          },
          "execution_count": 52
        }
      ]
    },
    {
      "cell_type": "code",
      "metadata": {
        "colab": {
          "base_uri": "https://localhost:8080/"
        },
        "id": "Yi2zaSpzJh7j",
        "outputId": "d243ceb7-33a6-4226-f2d6-e7c94746df57"
      },
      "source": [
        "# show MNIST label for above data\n",
        "y_train[0]"
      ],
      "execution_count": null,
      "outputs": [
        {
          "output_type": "execute_result",
          "data": {
            "text/plain": [
              "5"
            ]
          },
          "metadata": {
            "tags": []
          },
          "execution_count": 53
        }
      ]
    },
    {
      "cell_type": "markdown",
      "metadata": {
        "id": "lOQNyC5TJh7j"
      },
      "source": [
        "## 나만의 모델을 tensorflow keras API 를 이용해 만들어 봅시다~"
      ]
    },
    {
      "cell_type": "markdown",
      "metadata": {
        "id": "EeabaOtQJh7k"
      },
      "source": [
        "* parameters for model"
      ]
    },
    {
      "cell_type": "code",
      "metadata": {
        "id": "MgSJ3Fw1Jh7k"
      },
      "source": [
        "activation_list = [\"sigmoid\", \"relu\", \"softmax\", \"tanh\"]\n",
        "\n",
        "loss_list = [\"sparse_categorical_crossentropy\",\n",
        "             \"categorical_crossentropy\", \n",
        "             \"binary_crossentropy\"]\n",
        "\n",
        "optimizer_list = [\"sgd\", \"adam\", \"rmsprop\", \"adagrad\"]\n",
        "\n",
        "initializer_list = [tf.keras.initializers.RandomNormal(), \n",
        "                    tf.keras.initializers.RandomUniform(), \n",
        "                    tf.keras.initializers.he_normal(), \n",
        "                    tf.keras.initializers.he_uniform(), \n",
        "                    tf.keras.initializers.GlorotUniform(),\n",
        "                    tf.keras.initializers.GlorotNormal()]\n",
        "\n",
        "# dropout\n",
        "dropout_rate = 0.3\n",
        "model = tf.keras.Sequential([\n",
        "    tf.keras.layers.Dense(256, input_dim=784, activation = \"sigmoid\"),\n",
        "    tf.keras.layers.Dense(2, activation = \"sigmoid\"),\n",
        "    tf.keras.layers.Dropout(dropout_rate)\n",
        "])\n",
        "\n",
        "\n",
        "# regularizer\n",
        "regularizer = tf.keras.regularizers.l1(1e-3)\n",
        "regularizer = tf.keras.regularizers.l2(1e-3)\n",
        "model = tf.keras.Sequential([\n",
        "    tf.keras.layers.Dense(256, input_dim=784, activation=\"sigmoid\",\n",
        "                          activity_regularizer=regularizer)\n",
        "])\n",
        "\n",
        "# weight initialization\n",
        "model = tf.keras.Sequential([\n",
        "    tf.keras.layers.Dense(256, input_dim=784, activation=\"sigmoid\",\n",
        "                          kernel_initializer=initializer_list[0])\n",
        "])"
      ],
      "execution_count": null,
      "outputs": []
    },
    {
      "cell_type": "markdown",
      "metadata": {
        "id": "Iofb4zucJh7l"
      },
      "source": [
        "#### My Own Model "
      ]
    },
    {
      "cell_type": "code",
      "metadata": {
        "id": "LAP7RUe6eko0"
      },
      "source": [
        "from tensorflow.keras.layers import Dense, Flatten, Dropout\r\n",
        "from tensorflow.keras.models import Sequential"
      ],
      "execution_count": null,
      "outputs": []
    },
    {
      "cell_type": "code",
      "metadata": {
        "id": "oI_RriJlJh7l"
      },
      "source": [
        "#### 자유롭게 Model을 만들고 compile 해봅시다 ####\n",
        "model = Sequential()\n",
        "model.add(Dense(256, input_dim=(28*28),activation='relu'))\n",
        "model.add(Dropout(0.3))\n",
        "model.add(Dense(128,activation='relu'))\n",
        "model.add(Dropout(0.5))\n",
        "model.add(Dense(10,activation='softmax'))"
      ],
      "execution_count": null,
      "outputs": []
    },
    {
      "cell_type": "markdown",
      "metadata": {
        "id": "CQHIo4wqJh7l"
      },
      "source": [
        "내가 만든 모델을 확인해 봅시다."
      ]
    },
    {
      "cell_type": "code",
      "metadata": {
        "colab": {
          "base_uri": "https://localhost:8080/"
        },
        "id": "4V1KCJF1Jh7m",
        "outputId": "30ee7ff9-f061-4df9-c3e6-a269a3adfc79"
      },
      "source": [
        "model.summary()"
      ],
      "execution_count": null,
      "outputs": [
        {
          "output_type": "stream",
          "text": [
            "Model: \"sequential_4\"\n",
            "_________________________________________________________________\n",
            "Layer (type)                 Output Shape              Param #   \n",
            "=================================================================\n",
            "dense_6 (Dense)              (None, 256)               200960    \n",
            "_________________________________________________________________\n",
            "dropout_6 (Dropout)          (None, 256)               0         \n",
            "_________________________________________________________________\n",
            "dense_7 (Dense)              (None, 128)               32896     \n",
            "_________________________________________________________________\n",
            "dropout_7 (Dropout)          (None, 128)               0         \n",
            "_________________________________________________________________\n",
            "dense_8 (Dense)              (None, 10)                1290      \n",
            "=================================================================\n",
            "Total params: 235,146\n",
            "Trainable params: 235,146\n",
            "Non-trainable params: 0\n",
            "_________________________________________________________________\n"
          ],
          "name": "stdout"
        }
      ]
    },
    {
      "cell_type": "markdown",
      "metadata": {
        "id": "uQiOI1lMJh7m"
      },
      "source": [
        "model을 자유롭게 train 해봅시다.  "
      ]
    },
    {
      "cell_type": "code",
      "metadata": {
        "id": "lPy-p4XNfoRV"
      },
      "source": [
        "model.compile(optimizer='adam',loss='sparse_categorical_crossentropy',metrics=['accuracy'])"
      ],
      "execution_count": null,
      "outputs": []
    },
    {
      "cell_type": "code",
      "metadata": {
        "colab": {
          "base_uri": "https://localhost:8080/"
        },
        "id": "wQyW4QGYJh7n",
        "outputId": "f03b3599-6299-41a0-a867-f9b137d6450d"
      },
      "source": [
        "model.fit(x_train,y_train,epochs=20,validation_split=0.2,batch_size=2000)"
      ],
      "execution_count": null,
      "outputs": [
        {
          "output_type": "stream",
          "text": [
            "Epoch 1/20\n",
            "24/24 [==============================] - 2s 64ms/step - loss: 0.0545 - accuracy: 0.9833 - val_loss: 0.0710 - val_accuracy: 0.9793\n",
            "Epoch 2/20\n",
            "24/24 [==============================] - 1s 63ms/step - loss: 0.0534 - accuracy: 0.9839 - val_loss: 0.0706 - val_accuracy: 0.9793\n",
            "Epoch 3/20\n",
            "24/24 [==============================] - 2s 63ms/step - loss: 0.0531 - accuracy: 0.9836 - val_loss: 0.0705 - val_accuracy: 0.9794\n",
            "Epoch 4/20\n",
            "24/24 [==============================] - 2s 63ms/step - loss: 0.0521 - accuracy: 0.9836 - val_loss: 0.0703 - val_accuracy: 0.9796\n",
            "Epoch 5/20\n",
            "24/24 [==============================] - 1s 63ms/step - loss: 0.0480 - accuracy: 0.9855 - val_loss: 0.0701 - val_accuracy: 0.9797\n",
            "Epoch 6/20\n",
            "24/24 [==============================] - 1s 62ms/step - loss: 0.0495 - accuracy: 0.9849 - val_loss: 0.0700 - val_accuracy: 0.9800\n",
            "Epoch 7/20\n",
            "24/24 [==============================] - 1s 63ms/step - loss: 0.0485 - accuracy: 0.9851 - val_loss: 0.0700 - val_accuracy: 0.9799\n",
            "Epoch 8/20\n",
            "24/24 [==============================] - 1s 61ms/step - loss: 0.0470 - accuracy: 0.9854 - val_loss: 0.0698 - val_accuracy: 0.9797\n",
            "Epoch 9/20\n",
            "24/24 [==============================] - 2s 63ms/step - loss: 0.0479 - accuracy: 0.9853 - val_loss: 0.0697 - val_accuracy: 0.9797\n",
            "Epoch 10/20\n",
            "24/24 [==============================] - 1s 62ms/step - loss: 0.0475 - accuracy: 0.9854 - val_loss: 0.0696 - val_accuracy: 0.9803\n",
            "Epoch 11/20\n",
            "24/24 [==============================] - 1s 62ms/step - loss: 0.0462 - accuracy: 0.9854 - val_loss: 0.0696 - val_accuracy: 0.9797\n",
            "Epoch 12/20\n",
            "24/24 [==============================] - 1s 62ms/step - loss: 0.0442 - accuracy: 0.9863 - val_loss: 0.0697 - val_accuracy: 0.9802\n",
            "Epoch 13/20\n",
            "24/24 [==============================] - 1s 62ms/step - loss: 0.0442 - accuracy: 0.9860 - val_loss: 0.0698 - val_accuracy: 0.9806\n",
            "Epoch 14/20\n",
            "24/24 [==============================] - 2s 65ms/step - loss: 0.0473 - accuracy: 0.9847 - val_loss: 0.0694 - val_accuracy: 0.9805\n",
            "Epoch 15/20\n",
            "24/24 [==============================] - 1s 62ms/step - loss: 0.0445 - accuracy: 0.9866 - val_loss: 0.0692 - val_accuracy: 0.9805\n",
            "Epoch 16/20\n",
            "24/24 [==============================] - 2s 64ms/step - loss: 0.0451 - accuracy: 0.9861 - val_loss: 0.0689 - val_accuracy: 0.9802\n",
            "Epoch 17/20\n",
            "24/24 [==============================] - 2s 65ms/step - loss: 0.0441 - accuracy: 0.9864 - val_loss: 0.0690 - val_accuracy: 0.9798\n",
            "Epoch 18/20\n",
            "24/24 [==============================] - 2s 63ms/step - loss: 0.0424 - accuracy: 0.9867 - val_loss: 0.0694 - val_accuracy: 0.9803\n",
            "Epoch 19/20\n",
            "24/24 [==============================] - 2s 64ms/step - loss: 0.0429 - accuracy: 0.9865 - val_loss: 0.0697 - val_accuracy: 0.9805\n",
            "Epoch 20/20\n",
            "24/24 [==============================] - 2s 63ms/step - loss: 0.0413 - accuracy: 0.9871 - val_loss: 0.0693 - val_accuracy: 0.9805\n"
          ],
          "name": "stdout"
        },
        {
          "output_type": "execute_result",
          "data": {
            "text/plain": [
              "<tensorflow.python.keras.callbacks.History at 0x7ff0f80b0b00>"
            ]
          },
          "metadata": {
            "tags": []
          },
          "execution_count": 74
        }
      ]
    },
    {
      "cell_type": "markdown",
      "metadata": {
        "id": "L2s44dstJh7n"
      },
      "source": [
        "95%이상의 성능을 가진 모델을 만들면 완성!"
      ]
    },
    {
      "cell_type": "code",
      "metadata": {
        "colab": {
          "base_uri": "https://localhost:8080/"
        },
        "id": "3xhrrvfzJh7n",
        "outputId": "99b82ef4-fb65-44b7-96ea-da179528dca2"
      },
      "source": [
        "test_loss, test_acc = model.evaluate(x_test,y_test, verbose=2)\n",
        "\n",
        "print('\\nAccuracy:', test_acc)"
      ],
      "execution_count": null,
      "outputs": [
        {
          "output_type": "stream",
          "text": [
            "313/313 - 1s - loss: 0.0650 - accuracy: 0.9824\n",
            "\n",
            "Accuracy: 0.9824000000953674\n"
          ],
          "name": "stdout"
        }
      ]
    },
    {
      "cell_type": "markdown",
      "metadata": {
        "collapsed": true,
        "id": "b_QOLwY9Jh7n"
      },
      "source": [
        "![](https://www.tensorflow.org/versions/master/images/mnist_tensorboard.png)"
      ]
    }
  ]
}